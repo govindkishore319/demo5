{
 "cells": [
  {
   "cell_type": "markdown",
   "id": "f23f1f9c",
   "metadata": {},
   "source": [
    "#### Join the data frames actors.csv and movies.csv using all the join types you know"
   ]
  },
  {
   "cell_type": "code",
   "execution_count": 1,
   "id": "70d0c5b8",
   "metadata": {},
   "outputs": [],
   "source": [
    "#import pandas library for data analysis\n",
    "import pandas as pd"
   ]
  },
  {
   "cell_type": "code",
   "execution_count": 2,
   "id": "df546834",
   "metadata": {},
   "outputs": [],
   "source": [
    "#reading the csv files\n",
    "actors_df = pd.read_csv('actors.csv')\n",
    "movies_df = pd.read_csv('movies.csv')"
   ]
  },
  {
   "cell_type": "code",
   "execution_count": 3,
   "id": "ddc923d7",
   "metadata": {},
   "outputs": [
    {
     "data": {
      "text/plain": [
       "(                  actor  year_of_birth\n",
       " 0          Bruce Willis           1955\n",
       " 1        Robert De Niro           1943\n",
       " 2     Leonardo DiCaprio           1974\n",
       " 3         Julia Roberts           1967\n",
       " 4  Catherine Zeta-Jones           1969\n",
       " 5        Sandra Bullock           1964,\n",
       "                   movie                 actor  duration_minutes\n",
       " 0            Die Hard 1          Bruce Willis               132\n",
       " 1     The Mask of Zorro  Catherine Zeta-Jones               136\n",
       " 2           Raging Bull        Robert De Niro               129\n",
       " 3                 Speed        Sandra Bullock               116\n",
       " 4  When Harry Met Sally              Meg Ryan                96\n",
       " 5               Titanic     Leonardo DiCaprio               195\n",
       " 6               Chicago          Richard Gere               113)"
      ]
     },
     "execution_count": 3,
     "metadata": {},
     "output_type": "execute_result"
    }
   ],
   "source": [
    "actors_df, movies_df"
   ]
  },
  {
   "cell_type": "markdown",
   "id": "2ba60112",
   "metadata": {},
   "source": [
    "##### INNER JOIN"
   ]
  },
  {
   "cell_type": "code",
   "execution_count": 4,
   "id": "4f9443e8",
   "metadata": {},
   "outputs": [
    {
     "data": {
      "text/html": [
       "<div>\n",
       "<style scoped>\n",
       "    .dataframe tbody tr th:only-of-type {\n",
       "        vertical-align: middle;\n",
       "    }\n",
       "\n",
       "    .dataframe tbody tr th {\n",
       "        vertical-align: top;\n",
       "    }\n",
       "\n",
       "    .dataframe thead th {\n",
       "        text-align: right;\n",
       "    }\n",
       "</style>\n",
       "<table border=\"1\" class=\"dataframe\">\n",
       "  <thead>\n",
       "    <tr style=\"text-align: right;\">\n",
       "      <th></th>\n",
       "      <th>actor</th>\n",
       "      <th>year_of_birth</th>\n",
       "      <th>movie</th>\n",
       "      <th>duration_minutes</th>\n",
       "    </tr>\n",
       "  </thead>\n",
       "  <tbody>\n",
       "    <tr>\n",
       "      <th>0</th>\n",
       "      <td>Bruce Willis</td>\n",
       "      <td>1955</td>\n",
       "      <td>Die Hard 1</td>\n",
       "      <td>132</td>\n",
       "    </tr>\n",
       "    <tr>\n",
       "      <th>1</th>\n",
       "      <td>Robert De Niro</td>\n",
       "      <td>1943</td>\n",
       "      <td>Raging Bull</td>\n",
       "      <td>129</td>\n",
       "    </tr>\n",
       "    <tr>\n",
       "      <th>2</th>\n",
       "      <td>Leonardo DiCaprio</td>\n",
       "      <td>1974</td>\n",
       "      <td>Titanic</td>\n",
       "      <td>195</td>\n",
       "    </tr>\n",
       "    <tr>\n",
       "      <th>3</th>\n",
       "      <td>Catherine Zeta-Jones</td>\n",
       "      <td>1969</td>\n",
       "      <td>The Mask of Zorro</td>\n",
       "      <td>136</td>\n",
       "    </tr>\n",
       "    <tr>\n",
       "      <th>4</th>\n",
       "      <td>Sandra Bullock</td>\n",
       "      <td>1964</td>\n",
       "      <td>Speed</td>\n",
       "      <td>116</td>\n",
       "    </tr>\n",
       "  </tbody>\n",
       "</table>\n",
       "</div>"
      ],
      "text/plain": [
       "                  actor  year_of_birth              movie  duration_minutes\n",
       "0          Bruce Willis           1955         Die Hard 1               132\n",
       "1        Robert De Niro           1943        Raging Bull               129\n",
       "2     Leonardo DiCaprio           1974            Titanic               195\n",
       "3  Catherine Zeta-Jones           1969  The Mask of Zorro               136\n",
       "4        Sandra Bullock           1964              Speed               116"
      ]
     },
     "execution_count": 4,
     "metadata": {},
     "output_type": "execute_result"
    }
   ],
   "source": [
    "inner_join_df = pd.merge(actors_df, movies_df, on= 'actor', how= 'inner')\n",
    "inner_join_df"
   ]
  },
  {
   "cell_type": "markdown",
   "id": "66fe8bb6",
   "metadata": {},
   "source": [
    "COMMENT: This is the default type of join in pandas. It combines the two data frames based on matching values in the specified column(s), and includes only the rows that have a match in both data frames."
   ]
  },
  {
   "cell_type": "markdown",
   "id": "704bf551",
   "metadata": {},
   "source": [
    "##### LEFT JOIN"
   ]
  },
  {
   "cell_type": "code",
   "execution_count": 5,
   "id": "624beb5e",
   "metadata": {},
   "outputs": [
    {
     "data": {
      "text/html": [
       "<div>\n",
       "<style scoped>\n",
       "    .dataframe tbody tr th:only-of-type {\n",
       "        vertical-align: middle;\n",
       "    }\n",
       "\n",
       "    .dataframe tbody tr th {\n",
       "        vertical-align: top;\n",
       "    }\n",
       "\n",
       "    .dataframe thead th {\n",
       "        text-align: right;\n",
       "    }\n",
       "</style>\n",
       "<table border=\"1\" class=\"dataframe\">\n",
       "  <thead>\n",
       "    <tr style=\"text-align: right;\">\n",
       "      <th></th>\n",
       "      <th>actor</th>\n",
       "      <th>year_of_birth</th>\n",
       "      <th>movie</th>\n",
       "      <th>duration_minutes</th>\n",
       "    </tr>\n",
       "  </thead>\n",
       "  <tbody>\n",
       "    <tr>\n",
       "      <th>0</th>\n",
       "      <td>Bruce Willis</td>\n",
       "      <td>1955</td>\n",
       "      <td>Die Hard 1</td>\n",
       "      <td>132.0</td>\n",
       "    </tr>\n",
       "    <tr>\n",
       "      <th>1</th>\n",
       "      <td>Robert De Niro</td>\n",
       "      <td>1943</td>\n",
       "      <td>Raging Bull</td>\n",
       "      <td>129.0</td>\n",
       "    </tr>\n",
       "    <tr>\n",
       "      <th>2</th>\n",
       "      <td>Leonardo DiCaprio</td>\n",
       "      <td>1974</td>\n",
       "      <td>Titanic</td>\n",
       "      <td>195.0</td>\n",
       "    </tr>\n",
       "    <tr>\n",
       "      <th>3</th>\n",
       "      <td>Julia Roberts</td>\n",
       "      <td>1967</td>\n",
       "      <td>NaN</td>\n",
       "      <td>NaN</td>\n",
       "    </tr>\n",
       "    <tr>\n",
       "      <th>4</th>\n",
       "      <td>Catherine Zeta-Jones</td>\n",
       "      <td>1969</td>\n",
       "      <td>The Mask of Zorro</td>\n",
       "      <td>136.0</td>\n",
       "    </tr>\n",
       "    <tr>\n",
       "      <th>5</th>\n",
       "      <td>Sandra Bullock</td>\n",
       "      <td>1964</td>\n",
       "      <td>Speed</td>\n",
       "      <td>116.0</td>\n",
       "    </tr>\n",
       "  </tbody>\n",
       "</table>\n",
       "</div>"
      ],
      "text/plain": [
       "                  actor  year_of_birth              movie  duration_minutes\n",
       "0          Bruce Willis           1955         Die Hard 1             132.0\n",
       "1        Robert De Niro           1943        Raging Bull             129.0\n",
       "2     Leonardo DiCaprio           1974            Titanic             195.0\n",
       "3         Julia Roberts           1967                NaN               NaN\n",
       "4  Catherine Zeta-Jones           1969  The Mask of Zorro             136.0\n",
       "5        Sandra Bullock           1964              Speed             116.0"
      ]
     },
     "execution_count": 5,
     "metadata": {},
     "output_type": "execute_result"
    }
   ],
   "source": [
    "left_join_df = pd.merge(actors_df, movies_df, on= 'actor', how= 'left')\n",
    "left_join_df"
   ]
  },
  {
   "cell_type": "markdown",
   "id": "bd2096b7",
   "metadata": {},
   "source": [
    "COMMENT: This type of join includes all rows from the left data frame, and only the matching rows from the right data frame."
   ]
  },
  {
   "cell_type": "markdown",
   "id": "bf530348",
   "metadata": {},
   "source": [
    "##### RIGHT JOIN"
   ]
  },
  {
   "cell_type": "code",
   "execution_count": 6,
   "id": "54f2f677",
   "metadata": {},
   "outputs": [
    {
     "data": {
      "text/html": [
       "<div>\n",
       "<style scoped>\n",
       "    .dataframe tbody tr th:only-of-type {\n",
       "        vertical-align: middle;\n",
       "    }\n",
       "\n",
       "    .dataframe tbody tr th {\n",
       "        vertical-align: top;\n",
       "    }\n",
       "\n",
       "    .dataframe thead th {\n",
       "        text-align: right;\n",
       "    }\n",
       "</style>\n",
       "<table border=\"1\" class=\"dataframe\">\n",
       "  <thead>\n",
       "    <tr style=\"text-align: right;\">\n",
       "      <th></th>\n",
       "      <th>actor</th>\n",
       "      <th>year_of_birth</th>\n",
       "      <th>movie</th>\n",
       "      <th>duration_minutes</th>\n",
       "    </tr>\n",
       "  </thead>\n",
       "  <tbody>\n",
       "    <tr>\n",
       "      <th>0</th>\n",
       "      <td>Bruce Willis</td>\n",
       "      <td>1955.0</td>\n",
       "      <td>Die Hard 1</td>\n",
       "      <td>132</td>\n",
       "    </tr>\n",
       "    <tr>\n",
       "      <th>1</th>\n",
       "      <td>Catherine Zeta-Jones</td>\n",
       "      <td>1969.0</td>\n",
       "      <td>The Mask of Zorro</td>\n",
       "      <td>136</td>\n",
       "    </tr>\n",
       "    <tr>\n",
       "      <th>2</th>\n",
       "      <td>Robert De Niro</td>\n",
       "      <td>1943.0</td>\n",
       "      <td>Raging Bull</td>\n",
       "      <td>129</td>\n",
       "    </tr>\n",
       "    <tr>\n",
       "      <th>3</th>\n",
       "      <td>Sandra Bullock</td>\n",
       "      <td>1964.0</td>\n",
       "      <td>Speed</td>\n",
       "      <td>116</td>\n",
       "    </tr>\n",
       "    <tr>\n",
       "      <th>4</th>\n",
       "      <td>Meg Ryan</td>\n",
       "      <td>NaN</td>\n",
       "      <td>When Harry Met Sally</td>\n",
       "      <td>96</td>\n",
       "    </tr>\n",
       "    <tr>\n",
       "      <th>5</th>\n",
       "      <td>Leonardo DiCaprio</td>\n",
       "      <td>1974.0</td>\n",
       "      <td>Titanic</td>\n",
       "      <td>195</td>\n",
       "    </tr>\n",
       "    <tr>\n",
       "      <th>6</th>\n",
       "      <td>Richard Gere</td>\n",
       "      <td>NaN</td>\n",
       "      <td>Chicago</td>\n",
       "      <td>113</td>\n",
       "    </tr>\n",
       "  </tbody>\n",
       "</table>\n",
       "</div>"
      ],
      "text/plain": [
       "                  actor  year_of_birth                 movie  duration_minutes\n",
       "0          Bruce Willis         1955.0            Die Hard 1               132\n",
       "1  Catherine Zeta-Jones         1969.0     The Mask of Zorro               136\n",
       "2        Robert De Niro         1943.0           Raging Bull               129\n",
       "3        Sandra Bullock         1964.0                 Speed               116\n",
       "4              Meg Ryan            NaN  When Harry Met Sally                96\n",
       "5     Leonardo DiCaprio         1974.0               Titanic               195\n",
       "6          Richard Gere            NaN               Chicago               113"
      ]
     },
     "execution_count": 6,
     "metadata": {},
     "output_type": "execute_result"
    }
   ],
   "source": [
    "right_join_df = pd.merge(actors_df, movies_df, on= 'actor', how= 'right')\n",
    "right_join_df"
   ]
  },
  {
   "cell_type": "markdown",
   "id": "8421c75f",
   "metadata": {},
   "source": [
    "COMMENT: This type of join includes all rows from the right data frame, and only the matching rows from the left data frame."
   ]
  },
  {
   "cell_type": "markdown",
   "id": "1ecfae8f",
   "metadata": {},
   "source": [
    "##### FULL JOIN"
   ]
  },
  {
   "cell_type": "code",
   "execution_count": 7,
   "id": "38f5de06",
   "metadata": {},
   "outputs": [
    {
     "data": {
      "text/html": [
       "<div>\n",
       "<style scoped>\n",
       "    .dataframe tbody tr th:only-of-type {\n",
       "        vertical-align: middle;\n",
       "    }\n",
       "\n",
       "    .dataframe tbody tr th {\n",
       "        vertical-align: top;\n",
       "    }\n",
       "\n",
       "    .dataframe thead th {\n",
       "        text-align: right;\n",
       "    }\n",
       "</style>\n",
       "<table border=\"1\" class=\"dataframe\">\n",
       "  <thead>\n",
       "    <tr style=\"text-align: right;\">\n",
       "      <th></th>\n",
       "      <th>actor</th>\n",
       "      <th>year_of_birth</th>\n",
       "      <th>movie</th>\n",
       "      <th>duration_minutes</th>\n",
       "    </tr>\n",
       "  </thead>\n",
       "  <tbody>\n",
       "    <tr>\n",
       "      <th>0</th>\n",
       "      <td>Bruce Willis</td>\n",
       "      <td>1955.0</td>\n",
       "      <td>Die Hard 1</td>\n",
       "      <td>132.0</td>\n",
       "    </tr>\n",
       "    <tr>\n",
       "      <th>1</th>\n",
       "      <td>Robert De Niro</td>\n",
       "      <td>1943.0</td>\n",
       "      <td>Raging Bull</td>\n",
       "      <td>129.0</td>\n",
       "    </tr>\n",
       "    <tr>\n",
       "      <th>2</th>\n",
       "      <td>Leonardo DiCaprio</td>\n",
       "      <td>1974.0</td>\n",
       "      <td>Titanic</td>\n",
       "      <td>195.0</td>\n",
       "    </tr>\n",
       "    <tr>\n",
       "      <th>3</th>\n",
       "      <td>Julia Roberts</td>\n",
       "      <td>1967.0</td>\n",
       "      <td>NaN</td>\n",
       "      <td>NaN</td>\n",
       "    </tr>\n",
       "    <tr>\n",
       "      <th>4</th>\n",
       "      <td>Catherine Zeta-Jones</td>\n",
       "      <td>1969.0</td>\n",
       "      <td>The Mask of Zorro</td>\n",
       "      <td>136.0</td>\n",
       "    </tr>\n",
       "    <tr>\n",
       "      <th>5</th>\n",
       "      <td>Sandra Bullock</td>\n",
       "      <td>1964.0</td>\n",
       "      <td>Speed</td>\n",
       "      <td>116.0</td>\n",
       "    </tr>\n",
       "    <tr>\n",
       "      <th>6</th>\n",
       "      <td>Meg Ryan</td>\n",
       "      <td>NaN</td>\n",
       "      <td>When Harry Met Sally</td>\n",
       "      <td>96.0</td>\n",
       "    </tr>\n",
       "    <tr>\n",
       "      <th>7</th>\n",
       "      <td>Richard Gere</td>\n",
       "      <td>NaN</td>\n",
       "      <td>Chicago</td>\n",
       "      <td>113.0</td>\n",
       "    </tr>\n",
       "  </tbody>\n",
       "</table>\n",
       "</div>"
      ],
      "text/plain": [
       "                  actor  year_of_birth                 movie  duration_minutes\n",
       "0          Bruce Willis         1955.0            Die Hard 1             132.0\n",
       "1        Robert De Niro         1943.0           Raging Bull             129.0\n",
       "2     Leonardo DiCaprio         1974.0               Titanic             195.0\n",
       "3         Julia Roberts         1967.0                   NaN               NaN\n",
       "4  Catherine Zeta-Jones         1969.0     The Mask of Zorro             136.0\n",
       "5        Sandra Bullock         1964.0                 Speed             116.0\n",
       "6              Meg Ryan            NaN  When Harry Met Sally              96.0\n",
       "7          Richard Gere            NaN               Chicago             113.0"
      ]
     },
     "execution_count": 7,
     "metadata": {},
     "output_type": "execute_result"
    }
   ],
   "source": [
    "full_join_df = pd.merge(actors_df, movies_df, on= 'actor', how= 'outer')\n",
    "full_join_df.head()"
   ]
  },
  {
   "cell_type": "markdown",
   "id": "071d3a21",
   "metadata": {},
   "source": [
    "COMMENT: This type of join includes all rows from both data frames, filling in missing values with NaN where there is no match."
   ]
  },
  {
   "cell_type": "code",
   "execution_count": 9,
   "id": "6435b34c",
   "metadata": {},
   "outputs": [
    {
     "data": {
      "text/plain": [
       "0        Die\n",
       "1        The\n",
       "2     Raging\n",
       "3      Speed\n",
       "4       When\n",
       "5    Titanic\n",
       "6    Chicago\n",
       "Name: movie, dtype: object"
      ]
     },
     "execution_count": 9,
     "metadata": {},
     "output_type": "execute_result"
    }
   ],
   "source": [
    "movies_df['movie'].str.split().apply(lambda x : x[0])"
   ]
  },
  {
   "cell_type": "code",
   "execution_count": 17,
   "id": "87563d80",
   "metadata": {},
   "outputs": [
    {
     "data": {
      "text/plain": [
       "'Die'"
      ]
     },
     "execution_count": 17,
     "metadata": {},
     "output_type": "execute_result"
    }
   ],
   "source": [
    "movies_df['movie'][0].split(\" \")[0]"
   ]
  },
  {
   "cell_type": "code",
   "execution_count": 20,
   "id": "c56a17ab",
   "metadata": {},
   "outputs": [
    {
     "data": {
      "text/plain": [
       "0        Die\n",
       "1        The\n",
       "2     Raging\n",
       "3      Speed\n",
       "4       When\n",
       "5    Titanic\n",
       "6    Chicago\n",
       "Name: movie, dtype: object"
      ]
     },
     "execution_count": 20,
     "metadata": {},
     "output_type": "execute_result"
    }
   ],
   "source": [
    "movies_df['movie'].apply(lambda x:x.split(\" \")[0])"
   ]
  },
  {
   "cell_type": "code",
   "execution_count": null,
   "id": "3abc45ac",
   "metadata": {},
   "outputs": [],
   "source": []
  }
 ],
 "metadata": {
  "kernelspec": {
   "display_name": "Python 3 (ipykernel)",
   "language": "python",
   "name": "python3"
  },
  "language_info": {
   "codemirror_mode": {
    "name": "ipython",
    "version": 3
   },
   "file_extension": ".py",
   "mimetype": "text/x-python",
   "name": "python",
   "nbconvert_exporter": "python",
   "pygments_lexer": "ipython3",
   "version": "3.9.13"
  }
 },
 "nbformat": 4,
 "nbformat_minor": 5
}
