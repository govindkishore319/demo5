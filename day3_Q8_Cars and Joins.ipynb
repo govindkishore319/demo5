{
 "cells": [
  {
   "cell_type": "markdown",
   "id": "37cd1d96",
   "metadata": {},
   "source": [
    "#### Q8: Join the data frames car-owners.csv and car-models.csv using all the join types"
   ]
  },
  {
   "cell_type": "code",
   "execution_count": 1,
   "id": "396b386c",
   "metadata": {},
   "outputs": [],
   "source": [
    "#import pandas library\n",
    "import pandas as pd"
   ]
  },
  {
   "cell_type": "code",
   "execution_count": 2,
   "id": "daa5f0e5",
   "metadata": {},
   "outputs": [],
   "source": [
    "#reading the csv files\n",
    "owners_df = pd.read_csv('car-owners.csv')\n",
    "models_df = pd.read_csv('car-models.csv')"
   ]
  },
  {
   "cell_type": "code",
   "execution_count": 3,
   "id": "88b40fb2",
   "metadata": {},
   "outputs": [
    {
     "data": {
      "text/plain": [
       "(              car             name\n",
       " 0      Fiat Punto   Michael Forbes\n",
       " 1         Mazda 6    Jane Clifford\n",
       " 2     Ford Fiesta        Mary Wing\n",
       " 3  Renault Twingo   Thomas Johnson\n",
       " 4   Skoda Octavia    Andrew Parker\n",
       " 5    Suzuki Swift  Lilian Morrison,\n",
       "               car  horsepower  mpg\n",
       " 0         Mazda 6         184   28\n",
       " 1    Suzuki Swift         101  113\n",
       " 2    Honda Accord         252   30\n",
       " 3     Ford Fiesta         120   41\n",
       " 4  Renault Twingo          90   66\n",
       " 5      Fiat Punto          72   44\n",
       " 6    BMW 5 series         456   25)"
      ]
     },
     "execution_count": 3,
     "metadata": {},
     "output_type": "execute_result"
    }
   ],
   "source": [
    "owners_df, models_df"
   ]
  },
  {
   "cell_type": "markdown",
   "id": "c669019c",
   "metadata": {},
   "source": [
    "##### INNER JOIN"
   ]
  },
  {
   "cell_type": "code",
   "execution_count": 4,
   "id": "66937184",
   "metadata": {},
   "outputs": [
    {
     "data": {
      "text/html": [
       "<div>\n",
       "<style scoped>\n",
       "    .dataframe tbody tr th:only-of-type {\n",
       "        vertical-align: middle;\n",
       "    }\n",
       "\n",
       "    .dataframe tbody tr th {\n",
       "        vertical-align: top;\n",
       "    }\n",
       "\n",
       "    .dataframe thead th {\n",
       "        text-align: right;\n",
       "    }\n",
       "</style>\n",
       "<table border=\"1\" class=\"dataframe\">\n",
       "  <thead>\n",
       "    <tr style=\"text-align: right;\">\n",
       "      <th></th>\n",
       "      <th>car</th>\n",
       "      <th>name</th>\n",
       "      <th>horsepower</th>\n",
       "      <th>mpg</th>\n",
       "    </tr>\n",
       "  </thead>\n",
       "  <tbody>\n",
       "    <tr>\n",
       "      <th>0</th>\n",
       "      <td>Fiat Punto</td>\n",
       "      <td>Michael Forbes</td>\n",
       "      <td>72</td>\n",
       "      <td>44</td>\n",
       "    </tr>\n",
       "    <tr>\n",
       "      <th>1</th>\n",
       "      <td>Mazda 6</td>\n",
       "      <td>Jane Clifford</td>\n",
       "      <td>184</td>\n",
       "      <td>28</td>\n",
       "    </tr>\n",
       "    <tr>\n",
       "      <th>2</th>\n",
       "      <td>Ford Fiesta</td>\n",
       "      <td>Mary Wing</td>\n",
       "      <td>120</td>\n",
       "      <td>41</td>\n",
       "    </tr>\n",
       "    <tr>\n",
       "      <th>3</th>\n",
       "      <td>Renault Twingo</td>\n",
       "      <td>Thomas Johnson</td>\n",
       "      <td>90</td>\n",
       "      <td>66</td>\n",
       "    </tr>\n",
       "    <tr>\n",
       "      <th>4</th>\n",
       "      <td>Suzuki Swift</td>\n",
       "      <td>Lilian Morrison</td>\n",
       "      <td>101</td>\n",
       "      <td>113</td>\n",
       "    </tr>\n",
       "  </tbody>\n",
       "</table>\n",
       "</div>"
      ],
      "text/plain": [
       "              car             name  horsepower  mpg\n",
       "0      Fiat Punto   Michael Forbes          72   44\n",
       "1         Mazda 6    Jane Clifford         184   28\n",
       "2     Ford Fiesta        Mary Wing         120   41\n",
       "3  Renault Twingo   Thomas Johnson          90   66\n",
       "4    Suzuki Swift  Lilian Morrison         101  113"
      ]
     },
     "execution_count": 4,
     "metadata": {},
     "output_type": "execute_result"
    }
   ],
   "source": [
    "inner_join_df = pd.merge(owners_df, models_df, on= 'car', how= 'inner')\n",
    "inner_join_df"
   ]
  },
  {
   "cell_type": "markdown",
   "id": "662f9966",
   "metadata": {},
   "source": [
    "COMMENT: This is the default type of join in pandas. It combines the two data frames based on matching values in the specified column(s), and includes only the rows that have a match in both data frames."
   ]
  },
  {
   "cell_type": "markdown",
   "id": "2aef7b30",
   "metadata": {},
   "source": [
    "##### LEFT JOIN"
   ]
  },
  {
   "cell_type": "code",
   "execution_count": 5,
   "id": "b5d909cf",
   "metadata": {},
   "outputs": [
    {
     "data": {
      "text/html": [
       "<div>\n",
       "<style scoped>\n",
       "    .dataframe tbody tr th:only-of-type {\n",
       "        vertical-align: middle;\n",
       "    }\n",
       "\n",
       "    .dataframe tbody tr th {\n",
       "        vertical-align: top;\n",
       "    }\n",
       "\n",
       "    .dataframe thead th {\n",
       "        text-align: right;\n",
       "    }\n",
       "</style>\n",
       "<table border=\"1\" class=\"dataframe\">\n",
       "  <thead>\n",
       "    <tr style=\"text-align: right;\">\n",
       "      <th></th>\n",
       "      <th>car</th>\n",
       "      <th>name</th>\n",
       "      <th>horsepower</th>\n",
       "      <th>mpg</th>\n",
       "    </tr>\n",
       "  </thead>\n",
       "  <tbody>\n",
       "    <tr>\n",
       "      <th>0</th>\n",
       "      <td>Fiat Punto</td>\n",
       "      <td>Michael Forbes</td>\n",
       "      <td>72.0</td>\n",
       "      <td>44.0</td>\n",
       "    </tr>\n",
       "    <tr>\n",
       "      <th>1</th>\n",
       "      <td>Mazda 6</td>\n",
       "      <td>Jane Clifford</td>\n",
       "      <td>184.0</td>\n",
       "      <td>28.0</td>\n",
       "    </tr>\n",
       "    <tr>\n",
       "      <th>2</th>\n",
       "      <td>Ford Fiesta</td>\n",
       "      <td>Mary Wing</td>\n",
       "      <td>120.0</td>\n",
       "      <td>41.0</td>\n",
       "    </tr>\n",
       "    <tr>\n",
       "      <th>3</th>\n",
       "      <td>Renault Twingo</td>\n",
       "      <td>Thomas Johnson</td>\n",
       "      <td>90.0</td>\n",
       "      <td>66.0</td>\n",
       "    </tr>\n",
       "    <tr>\n",
       "      <th>4</th>\n",
       "      <td>Skoda Octavia</td>\n",
       "      <td>Andrew Parker</td>\n",
       "      <td>NaN</td>\n",
       "      <td>NaN</td>\n",
       "    </tr>\n",
       "    <tr>\n",
       "      <th>5</th>\n",
       "      <td>Suzuki Swift</td>\n",
       "      <td>Lilian Morrison</td>\n",
       "      <td>101.0</td>\n",
       "      <td>113.0</td>\n",
       "    </tr>\n",
       "  </tbody>\n",
       "</table>\n",
       "</div>"
      ],
      "text/plain": [
       "              car             name  horsepower    mpg\n",
       "0      Fiat Punto   Michael Forbes        72.0   44.0\n",
       "1         Mazda 6    Jane Clifford       184.0   28.0\n",
       "2     Ford Fiesta        Mary Wing       120.0   41.0\n",
       "3  Renault Twingo   Thomas Johnson        90.0   66.0\n",
       "4   Skoda Octavia    Andrew Parker         NaN    NaN\n",
       "5    Suzuki Swift  Lilian Morrison       101.0  113.0"
      ]
     },
     "execution_count": 5,
     "metadata": {},
     "output_type": "execute_result"
    }
   ],
   "source": [
    "left_join_df = pd.merge(owners_df, models_df, on= 'car', how= 'left')\n",
    "left_join_df"
   ]
  },
  {
   "cell_type": "markdown",
   "id": "7947329b",
   "metadata": {},
   "source": [
    "COMMENT: This type of join includes all rows from the left data frame, and only the matching rows from the right data frame."
   ]
  },
  {
   "cell_type": "markdown",
   "id": "5e41d1b5",
   "metadata": {},
   "source": [
    "##### RIGHT JOIN"
   ]
  },
  {
   "cell_type": "code",
   "execution_count": 6,
   "id": "1028ef7c",
   "metadata": {},
   "outputs": [
    {
     "data": {
      "text/html": [
       "<div>\n",
       "<style scoped>\n",
       "    .dataframe tbody tr th:only-of-type {\n",
       "        vertical-align: middle;\n",
       "    }\n",
       "\n",
       "    .dataframe tbody tr th {\n",
       "        vertical-align: top;\n",
       "    }\n",
       "\n",
       "    .dataframe thead th {\n",
       "        text-align: right;\n",
       "    }\n",
       "</style>\n",
       "<table border=\"1\" class=\"dataframe\">\n",
       "  <thead>\n",
       "    <tr style=\"text-align: right;\">\n",
       "      <th></th>\n",
       "      <th>car</th>\n",
       "      <th>name</th>\n",
       "      <th>horsepower</th>\n",
       "      <th>mpg</th>\n",
       "    </tr>\n",
       "  </thead>\n",
       "  <tbody>\n",
       "    <tr>\n",
       "      <th>0</th>\n",
       "      <td>Mazda 6</td>\n",
       "      <td>Jane Clifford</td>\n",
       "      <td>184</td>\n",
       "      <td>28</td>\n",
       "    </tr>\n",
       "    <tr>\n",
       "      <th>1</th>\n",
       "      <td>Suzuki Swift</td>\n",
       "      <td>Lilian Morrison</td>\n",
       "      <td>101</td>\n",
       "      <td>113</td>\n",
       "    </tr>\n",
       "    <tr>\n",
       "      <th>2</th>\n",
       "      <td>Honda Accord</td>\n",
       "      <td>NaN</td>\n",
       "      <td>252</td>\n",
       "      <td>30</td>\n",
       "    </tr>\n",
       "    <tr>\n",
       "      <th>3</th>\n",
       "      <td>Ford Fiesta</td>\n",
       "      <td>Mary Wing</td>\n",
       "      <td>120</td>\n",
       "      <td>41</td>\n",
       "    </tr>\n",
       "    <tr>\n",
       "      <th>4</th>\n",
       "      <td>Renault Twingo</td>\n",
       "      <td>Thomas Johnson</td>\n",
       "      <td>90</td>\n",
       "      <td>66</td>\n",
       "    </tr>\n",
       "    <tr>\n",
       "      <th>5</th>\n",
       "      <td>Fiat Punto</td>\n",
       "      <td>Michael Forbes</td>\n",
       "      <td>72</td>\n",
       "      <td>44</td>\n",
       "    </tr>\n",
       "    <tr>\n",
       "      <th>6</th>\n",
       "      <td>BMW 5 series</td>\n",
       "      <td>NaN</td>\n",
       "      <td>456</td>\n",
       "      <td>25</td>\n",
       "    </tr>\n",
       "  </tbody>\n",
       "</table>\n",
       "</div>"
      ],
      "text/plain": [
       "              car             name  horsepower  mpg\n",
       "0         Mazda 6    Jane Clifford         184   28\n",
       "1    Suzuki Swift  Lilian Morrison         101  113\n",
       "2    Honda Accord              NaN         252   30\n",
       "3     Ford Fiesta        Mary Wing         120   41\n",
       "4  Renault Twingo   Thomas Johnson          90   66\n",
       "5      Fiat Punto   Michael Forbes          72   44\n",
       "6    BMW 5 series              NaN         456   25"
      ]
     },
     "execution_count": 6,
     "metadata": {},
     "output_type": "execute_result"
    }
   ],
   "source": [
    "right_join_df = pd.merge(owners_df, models_df, on= 'car', how= 'right')\n",
    "right_join_df"
   ]
  },
  {
   "cell_type": "markdown",
   "id": "3dacde26",
   "metadata": {},
   "source": [
    "COMMENT: This type of join includes all rows from the right data frame, and only the matching rows from the left data frame."
   ]
  },
  {
   "cell_type": "markdown",
   "id": "37ac1829",
   "metadata": {},
   "source": [
    "##### FULL JOIN"
   ]
  },
  {
   "cell_type": "code",
   "execution_count": 7,
   "id": "a3ee0b14",
   "metadata": {},
   "outputs": [
    {
     "data": {
      "text/html": [
       "<div>\n",
       "<style scoped>\n",
       "    .dataframe tbody tr th:only-of-type {\n",
       "        vertical-align: middle;\n",
       "    }\n",
       "\n",
       "    .dataframe tbody tr th {\n",
       "        vertical-align: top;\n",
       "    }\n",
       "\n",
       "    .dataframe thead th {\n",
       "        text-align: right;\n",
       "    }\n",
       "</style>\n",
       "<table border=\"1\" class=\"dataframe\">\n",
       "  <thead>\n",
       "    <tr style=\"text-align: right;\">\n",
       "      <th></th>\n",
       "      <th>car</th>\n",
       "      <th>name</th>\n",
       "      <th>horsepower</th>\n",
       "      <th>mpg</th>\n",
       "    </tr>\n",
       "  </thead>\n",
       "  <tbody>\n",
       "    <tr>\n",
       "      <th>0</th>\n",
       "      <td>Fiat Punto</td>\n",
       "      <td>Michael Forbes</td>\n",
       "      <td>72.0</td>\n",
       "      <td>44.0</td>\n",
       "    </tr>\n",
       "    <tr>\n",
       "      <th>1</th>\n",
       "      <td>Mazda 6</td>\n",
       "      <td>Jane Clifford</td>\n",
       "      <td>184.0</td>\n",
       "      <td>28.0</td>\n",
       "    </tr>\n",
       "    <tr>\n",
       "      <th>2</th>\n",
       "      <td>Ford Fiesta</td>\n",
       "      <td>Mary Wing</td>\n",
       "      <td>120.0</td>\n",
       "      <td>41.0</td>\n",
       "    </tr>\n",
       "    <tr>\n",
       "      <th>3</th>\n",
       "      <td>Renault Twingo</td>\n",
       "      <td>Thomas Johnson</td>\n",
       "      <td>90.0</td>\n",
       "      <td>66.0</td>\n",
       "    </tr>\n",
       "    <tr>\n",
       "      <th>4</th>\n",
       "      <td>Skoda Octavia</td>\n",
       "      <td>Andrew Parker</td>\n",
       "      <td>NaN</td>\n",
       "      <td>NaN</td>\n",
       "    </tr>\n",
       "    <tr>\n",
       "      <th>5</th>\n",
       "      <td>Suzuki Swift</td>\n",
       "      <td>Lilian Morrison</td>\n",
       "      <td>101.0</td>\n",
       "      <td>113.0</td>\n",
       "    </tr>\n",
       "    <tr>\n",
       "      <th>6</th>\n",
       "      <td>Honda Accord</td>\n",
       "      <td>NaN</td>\n",
       "      <td>252.0</td>\n",
       "      <td>30.0</td>\n",
       "    </tr>\n",
       "    <tr>\n",
       "      <th>7</th>\n",
       "      <td>BMW 5 series</td>\n",
       "      <td>NaN</td>\n",
       "      <td>456.0</td>\n",
       "      <td>25.0</td>\n",
       "    </tr>\n",
       "  </tbody>\n",
       "</table>\n",
       "</div>"
      ],
      "text/plain": [
       "              car             name  horsepower    mpg\n",
       "0      Fiat Punto   Michael Forbes        72.0   44.0\n",
       "1         Mazda 6    Jane Clifford       184.0   28.0\n",
       "2     Ford Fiesta        Mary Wing       120.0   41.0\n",
       "3  Renault Twingo   Thomas Johnson        90.0   66.0\n",
       "4   Skoda Octavia    Andrew Parker         NaN    NaN\n",
       "5    Suzuki Swift  Lilian Morrison       101.0  113.0\n",
       "6    Honda Accord              NaN       252.0   30.0\n",
       "7    BMW 5 series              NaN       456.0   25.0"
      ]
     },
     "execution_count": 7,
     "metadata": {},
     "output_type": "execute_result"
    }
   ],
   "source": [
    "full_join_df = pd.merge(owners_df, models_df, on= 'car', how = 'outer')\n",
    "full_join_df.head()"
   ]
  },
  {
   "cell_type": "markdown",
   "id": "bac83e20",
   "metadata": {},
   "source": [
    "COMMENT: This type of join includes all rows from both data frames, filling in missing values with NaN where there is no match."
   ]
  },
  {
   "cell_type": "code",
   "execution_count": null,
   "id": "b0072c36",
   "metadata": {},
   "outputs": [],
   "source": []
  }
 ],
 "metadata": {
  "kernelspec": {
   "display_name": "Python 3 (ipykernel)",
   "language": "python",
   "name": "python3"
  },
  "language_info": {
   "codemirror_mode": {
    "name": "ipython",
    "version": 3
   },
   "file_extension": ".py",
   "mimetype": "text/x-python",
   "name": "python",
   "nbconvert_exporter": "python",
   "pygments_lexer": "ipython3",
   "version": "3.9.13"
  }
 },
 "nbformat": 4,
 "nbformat_minor": 5
}
