{
 "cells": [
  {
   "cell_type": "markdown",
   "id": "15345387",
   "metadata": {},
   "source": [
    "#### Q7. People csv and joins"
   ]
  },
  {
   "cell_type": "code",
   "execution_count": 1,
   "id": "c7df2a39",
   "metadata": {},
   "outputs": [],
   "source": [
    "#import pandas library\n",
    "import pandas as pd"
   ]
  },
  {
   "cell_type": "code",
   "execution_count": 2,
   "id": "45df16a7",
   "metadata": {},
   "outputs": [],
   "source": [
    "# reading the people files in dataframes\n",
    "people1 = pd.read_csv('people1.csv')\n",
    "people2 = pd.read_csv('people2.csv')"
   ]
  },
  {
   "cell_type": "code",
   "execution_count": 3,
   "id": "58dcc345",
   "metadata": {},
   "outputs": [
    {
     "data": {
      "text/plain": [
       "(   age  gender    marital  income\n",
       " 0   23    male    married     360\n",
       " 1   58    male    married     520\n",
       " 2   42  female    married     880\n",
       " 3   30  female  unmarried     460\n",
       " 4   43    male    married     590\n",
       " 5   51    male  unmarried     710\n",
       " 6   29    male    married     620\n",
       " 7   37  female  unmarried     350\n",
       " 8   33  female    married     290\n",
       " 9   46    male    married     440,\n",
       "     age  gender    marital  income\n",
       " 0    23    male    married     360\n",
       " 1    63    male    married     640\n",
       " 2    20  female  unmarried     930\n",
       " 3    44  female  unmarried     340\n",
       " 4    43    male    married     590\n",
       " 5    51    male  unmarried     710\n",
       " 6    29    male    married     620\n",
       " 7    36  female    married     770\n",
       " 8    33  female    married     510\n",
       " 9    35    male    married     550\n",
       " 10   27    male  unmarried     600\n",
       " 11   49  female  unmarried     420\n",
       " 12   34  female    married     680)"
      ]
     },
     "execution_count": 3,
     "metadata": {},
     "output_type": "execute_result"
    }
   ],
   "source": [
    "people1, people2"
   ]
  },
  {
   "cell_type": "markdown",
   "id": "b968bdc0",
   "metadata": {},
   "source": [
    "###### Using the data frames people1.csv and people2.csv, perform the following operations:"
   ]
  },
  {
   "cell_type": "markdown",
   "id": "f6d3a446",
   "metadata": {},
   "source": [
    "a) get the rows that can be found in both data frames\n"
   ]
  },
  {
   "cell_type": "code",
   "execution_count": 4,
   "id": "e7e20338",
   "metadata": {},
   "outputs": [
    {
     "name": "stdout",
     "output_type": "stream",
     "text": [
      "   age gender    marital  income\n",
      "0   23   male    married     360\n",
      "1   43   male    married     590\n",
      "2   51   male  unmarried     710\n",
      "3   29   male    married     620\n"
     ]
    }
   ],
   "source": [
    "merged_data = pd.merge(left= people1, right= people2, how= 'inner' )\n",
    "print(merged_data)"
   ]
  },
  {
   "cell_type": "markdown",
   "id": "3c7302fd",
   "metadata": {},
   "source": [
    "b) join the data frames (discarding the common rows)"
   ]
  },
  {
   "cell_type": "code",
   "execution_count": 5,
   "id": "c8d88e0e",
   "metadata": {},
   "outputs": [
    {
     "name": "stdout",
     "output_type": "stream",
     "text": [
      "    age  gender    marital  income\n",
      "1    58    male    married     520\n",
      "2    42  female    married     880\n",
      "3    30  female  unmarried     460\n",
      "7    37  female  unmarried     350\n",
      "8    33  female    married     290\n",
      "9    46    male    married     440\n",
      "1    63    male    married     640\n",
      "2    20  female  unmarried     930\n",
      "3    44  female  unmarried     340\n",
      "7    36  female    married     770\n",
      "8    33  female    married     510\n",
      "9    35    male    married     550\n",
      "10   27    male  unmarried     600\n",
      "11   49  female  unmarried     420\n",
      "12   34  female    married     680\n"
     ]
    }
   ],
   "source": [
    "joined_data = pd.concat([people1, people2]).drop_duplicates(keep= False)\n",
    "print(joined_data)"
   ]
  },
  {
   "cell_type": "markdown",
   "id": "99872ef9",
   "metadata": {},
   "source": [
    "c) get the rows that can be found in people1.csv, but not in people2.csv"
   ]
  },
  {
   "cell_type": "code",
   "execution_count": 6,
   "id": "580b0840",
   "metadata": {},
   "outputs": [
    {
     "data": {
      "text/html": [
       "<div>\n",
       "<style scoped>\n",
       "    .dataframe tbody tr th:only-of-type {\n",
       "        vertical-align: middle;\n",
       "    }\n",
       "\n",
       "    .dataframe tbody tr th {\n",
       "        vertical-align: top;\n",
       "    }\n",
       "\n",
       "    .dataframe thead th {\n",
       "        text-align: right;\n",
       "    }\n",
       "</style>\n",
       "<table border=\"1\" class=\"dataframe\">\n",
       "  <thead>\n",
       "    <tr style=\"text-align: right;\">\n",
       "      <th></th>\n",
       "      <th>age</th>\n",
       "      <th>gender</th>\n",
       "      <th>marital</th>\n",
       "      <th>income</th>\n",
       "      <th>_merge</th>\n",
       "    </tr>\n",
       "  </thead>\n",
       "  <tbody>\n",
       "    <tr>\n",
       "      <th>0</th>\n",
       "      <td>23</td>\n",
       "      <td>male</td>\n",
       "      <td>married</td>\n",
       "      <td>360</td>\n",
       "      <td>both</td>\n",
       "    </tr>\n",
       "    <tr>\n",
       "      <th>1</th>\n",
       "      <td>58</td>\n",
       "      <td>male</td>\n",
       "      <td>married</td>\n",
       "      <td>520</td>\n",
       "      <td>left_only</td>\n",
       "    </tr>\n",
       "    <tr>\n",
       "      <th>2</th>\n",
       "      <td>42</td>\n",
       "      <td>female</td>\n",
       "      <td>married</td>\n",
       "      <td>880</td>\n",
       "      <td>left_only</td>\n",
       "    </tr>\n",
       "    <tr>\n",
       "      <th>3</th>\n",
       "      <td>30</td>\n",
       "      <td>female</td>\n",
       "      <td>unmarried</td>\n",
       "      <td>460</td>\n",
       "      <td>left_only</td>\n",
       "    </tr>\n",
       "    <tr>\n",
       "      <th>4</th>\n",
       "      <td>43</td>\n",
       "      <td>male</td>\n",
       "      <td>married</td>\n",
       "      <td>590</td>\n",
       "      <td>both</td>\n",
       "    </tr>\n",
       "    <tr>\n",
       "      <th>5</th>\n",
       "      <td>51</td>\n",
       "      <td>male</td>\n",
       "      <td>unmarried</td>\n",
       "      <td>710</td>\n",
       "      <td>both</td>\n",
       "    </tr>\n",
       "    <tr>\n",
       "      <th>6</th>\n",
       "      <td>29</td>\n",
       "      <td>male</td>\n",
       "      <td>married</td>\n",
       "      <td>620</td>\n",
       "      <td>both</td>\n",
       "    </tr>\n",
       "    <tr>\n",
       "      <th>7</th>\n",
       "      <td>37</td>\n",
       "      <td>female</td>\n",
       "      <td>unmarried</td>\n",
       "      <td>350</td>\n",
       "      <td>left_only</td>\n",
       "    </tr>\n",
       "    <tr>\n",
       "      <th>8</th>\n",
       "      <td>33</td>\n",
       "      <td>female</td>\n",
       "      <td>married</td>\n",
       "      <td>290</td>\n",
       "      <td>left_only</td>\n",
       "    </tr>\n",
       "    <tr>\n",
       "      <th>9</th>\n",
       "      <td>46</td>\n",
       "      <td>male</td>\n",
       "      <td>married</td>\n",
       "      <td>440</td>\n",
       "      <td>left_only</td>\n",
       "    </tr>\n",
       "  </tbody>\n",
       "</table>\n",
       "</div>"
      ],
      "text/plain": [
       "   age  gender    marital  income     _merge\n",
       "0   23    male    married     360       both\n",
       "1   58    male    married     520  left_only\n",
       "2   42  female    married     880  left_only\n",
       "3   30  female  unmarried     460  left_only\n",
       "4   43    male    married     590       both\n",
       "5   51    male  unmarried     710       both\n",
       "6   29    male    married     620       both\n",
       "7   37  female  unmarried     350  left_only\n",
       "8   33  female    married     290  left_only\n",
       "9   46    male    married     440  left_only"
      ]
     },
     "execution_count": 6,
     "metadata": {},
     "output_type": "execute_result"
    }
   ],
   "source": [
    "left_merge_data = pd.merge(left= people1, right= people2, how= 'left', indicator= True)\n",
    "left_merge_data"
   ]
  },
  {
   "cell_type": "code",
   "execution_count": 7,
   "id": "f96b83d4",
   "metadata": {},
   "outputs": [
    {
     "name": "stdout",
     "output_type": "stream",
     "text": [
      "   age  gender    marital  income\n",
      "1   58    male    married     520\n",
      "2   42  female    married     880\n",
      "3   30  female  unmarried     460\n",
      "7   37  female  unmarried     350\n",
      "8   33  female    married     290\n",
      "9   46    male    married     440\n"
     ]
    }
   ],
   "source": [
    "left_merge = left_merge_data[left_merge_data['_merge']== 'left_only'].drop(columns= '_merge')\n",
    "print(left_merge)"
   ]
  },
  {
   "cell_type": "markdown",
   "id": "5e4d7a3a",
   "metadata": {},
   "source": [
    "d) get the rows that can be found in people2.csv, but not in people1.csv"
   ]
  },
  {
   "cell_type": "code",
   "execution_count": 8,
   "id": "22e76fa0",
   "metadata": {},
   "outputs": [
    {
     "data": {
      "text/html": [
       "<div>\n",
       "<style scoped>\n",
       "    .dataframe tbody tr th:only-of-type {\n",
       "        vertical-align: middle;\n",
       "    }\n",
       "\n",
       "    .dataframe tbody tr th {\n",
       "        vertical-align: top;\n",
       "    }\n",
       "\n",
       "    .dataframe thead th {\n",
       "        text-align: right;\n",
       "    }\n",
       "</style>\n",
       "<table border=\"1\" class=\"dataframe\">\n",
       "  <thead>\n",
       "    <tr style=\"text-align: right;\">\n",
       "      <th></th>\n",
       "      <th>age</th>\n",
       "      <th>gender</th>\n",
       "      <th>marital</th>\n",
       "      <th>income</th>\n",
       "      <th>_merge</th>\n",
       "    </tr>\n",
       "  </thead>\n",
       "  <tbody>\n",
       "    <tr>\n",
       "      <th>0</th>\n",
       "      <td>23</td>\n",
       "      <td>male</td>\n",
       "      <td>married</td>\n",
       "      <td>360</td>\n",
       "      <td>both</td>\n",
       "    </tr>\n",
       "    <tr>\n",
       "      <th>1</th>\n",
       "      <td>63</td>\n",
       "      <td>male</td>\n",
       "      <td>married</td>\n",
       "      <td>640</td>\n",
       "      <td>right_only</td>\n",
       "    </tr>\n",
       "    <tr>\n",
       "      <th>2</th>\n",
       "      <td>20</td>\n",
       "      <td>female</td>\n",
       "      <td>unmarried</td>\n",
       "      <td>930</td>\n",
       "      <td>right_only</td>\n",
       "    </tr>\n",
       "    <tr>\n",
       "      <th>3</th>\n",
       "      <td>44</td>\n",
       "      <td>female</td>\n",
       "      <td>unmarried</td>\n",
       "      <td>340</td>\n",
       "      <td>right_only</td>\n",
       "    </tr>\n",
       "    <tr>\n",
       "      <th>4</th>\n",
       "      <td>43</td>\n",
       "      <td>male</td>\n",
       "      <td>married</td>\n",
       "      <td>590</td>\n",
       "      <td>both</td>\n",
       "    </tr>\n",
       "    <tr>\n",
       "      <th>5</th>\n",
       "      <td>51</td>\n",
       "      <td>male</td>\n",
       "      <td>unmarried</td>\n",
       "      <td>710</td>\n",
       "      <td>both</td>\n",
       "    </tr>\n",
       "    <tr>\n",
       "      <th>6</th>\n",
       "      <td>29</td>\n",
       "      <td>male</td>\n",
       "      <td>married</td>\n",
       "      <td>620</td>\n",
       "      <td>both</td>\n",
       "    </tr>\n",
       "    <tr>\n",
       "      <th>7</th>\n",
       "      <td>36</td>\n",
       "      <td>female</td>\n",
       "      <td>married</td>\n",
       "      <td>770</td>\n",
       "      <td>right_only</td>\n",
       "    </tr>\n",
       "    <tr>\n",
       "      <th>8</th>\n",
       "      <td>33</td>\n",
       "      <td>female</td>\n",
       "      <td>married</td>\n",
       "      <td>510</td>\n",
       "      <td>right_only</td>\n",
       "    </tr>\n",
       "    <tr>\n",
       "      <th>9</th>\n",
       "      <td>35</td>\n",
       "      <td>male</td>\n",
       "      <td>married</td>\n",
       "      <td>550</td>\n",
       "      <td>right_only</td>\n",
       "    </tr>\n",
       "    <tr>\n",
       "      <th>10</th>\n",
       "      <td>27</td>\n",
       "      <td>male</td>\n",
       "      <td>unmarried</td>\n",
       "      <td>600</td>\n",
       "      <td>right_only</td>\n",
       "    </tr>\n",
       "    <tr>\n",
       "      <th>11</th>\n",
       "      <td>49</td>\n",
       "      <td>female</td>\n",
       "      <td>unmarried</td>\n",
       "      <td>420</td>\n",
       "      <td>right_only</td>\n",
       "    </tr>\n",
       "    <tr>\n",
       "      <th>12</th>\n",
       "      <td>34</td>\n",
       "      <td>female</td>\n",
       "      <td>married</td>\n",
       "      <td>680</td>\n",
       "      <td>right_only</td>\n",
       "    </tr>\n",
       "  </tbody>\n",
       "</table>\n",
       "</div>"
      ],
      "text/plain": [
       "    age  gender    marital  income      _merge\n",
       "0    23    male    married     360        both\n",
       "1    63    male    married     640  right_only\n",
       "2    20  female  unmarried     930  right_only\n",
       "3    44  female  unmarried     340  right_only\n",
       "4    43    male    married     590        both\n",
       "5    51    male  unmarried     710        both\n",
       "6    29    male    married     620        both\n",
       "7    36  female    married     770  right_only\n",
       "8    33  female    married     510  right_only\n",
       "9    35    male    married     550  right_only\n",
       "10   27    male  unmarried     600  right_only\n",
       "11   49  female  unmarried     420  right_only\n",
       "12   34  female    married     680  right_only"
      ]
     },
     "execution_count": 8,
     "metadata": {},
     "output_type": "execute_result"
    }
   ],
   "source": [
    "right_merge_data = pd.merge(people1, people2, how = 'right', indicator= True)\n",
    "right_merge_data"
   ]
  },
  {
   "cell_type": "code",
   "execution_count": 9,
   "id": "f898cf83",
   "metadata": {},
   "outputs": [
    {
     "data": {
      "text/html": [
       "<div>\n",
       "<style scoped>\n",
       "    .dataframe tbody tr th:only-of-type {\n",
       "        vertical-align: middle;\n",
       "    }\n",
       "\n",
       "    .dataframe tbody tr th {\n",
       "        vertical-align: top;\n",
       "    }\n",
       "\n",
       "    .dataframe thead th {\n",
       "        text-align: right;\n",
       "    }\n",
       "</style>\n",
       "<table border=\"1\" class=\"dataframe\">\n",
       "  <thead>\n",
       "    <tr style=\"text-align: right;\">\n",
       "      <th></th>\n",
       "      <th>age</th>\n",
       "      <th>gender</th>\n",
       "      <th>marital</th>\n",
       "      <th>income</th>\n",
       "    </tr>\n",
       "  </thead>\n",
       "  <tbody>\n",
       "    <tr>\n",
       "      <th>1</th>\n",
       "      <td>63</td>\n",
       "      <td>male</td>\n",
       "      <td>married</td>\n",
       "      <td>640</td>\n",
       "    </tr>\n",
       "    <tr>\n",
       "      <th>2</th>\n",
       "      <td>20</td>\n",
       "      <td>female</td>\n",
       "      <td>unmarried</td>\n",
       "      <td>930</td>\n",
       "    </tr>\n",
       "    <tr>\n",
       "      <th>3</th>\n",
       "      <td>44</td>\n",
       "      <td>female</td>\n",
       "      <td>unmarried</td>\n",
       "      <td>340</td>\n",
       "    </tr>\n",
       "    <tr>\n",
       "      <th>7</th>\n",
       "      <td>36</td>\n",
       "      <td>female</td>\n",
       "      <td>married</td>\n",
       "      <td>770</td>\n",
       "    </tr>\n",
       "    <tr>\n",
       "      <th>8</th>\n",
       "      <td>33</td>\n",
       "      <td>female</td>\n",
       "      <td>married</td>\n",
       "      <td>510</td>\n",
       "    </tr>\n",
       "    <tr>\n",
       "      <th>9</th>\n",
       "      <td>35</td>\n",
       "      <td>male</td>\n",
       "      <td>married</td>\n",
       "      <td>550</td>\n",
       "    </tr>\n",
       "    <tr>\n",
       "      <th>10</th>\n",
       "      <td>27</td>\n",
       "      <td>male</td>\n",
       "      <td>unmarried</td>\n",
       "      <td>600</td>\n",
       "    </tr>\n",
       "    <tr>\n",
       "      <th>11</th>\n",
       "      <td>49</td>\n",
       "      <td>female</td>\n",
       "      <td>unmarried</td>\n",
       "      <td>420</td>\n",
       "    </tr>\n",
       "    <tr>\n",
       "      <th>12</th>\n",
       "      <td>34</td>\n",
       "      <td>female</td>\n",
       "      <td>married</td>\n",
       "      <td>680</td>\n",
       "    </tr>\n",
       "  </tbody>\n",
       "</table>\n",
       "</div>"
      ],
      "text/plain": [
       "    age  gender    marital  income\n",
       "1    63    male    married     640\n",
       "2    20  female  unmarried     930\n",
       "3    44  female  unmarried     340\n",
       "7    36  female    married     770\n",
       "8    33  female    married     510\n",
       "9    35    male    married     550\n",
       "10   27    male  unmarried     600\n",
       "11   49  female  unmarried     420\n",
       "12   34  female    married     680"
      ]
     },
     "execution_count": 9,
     "metadata": {},
     "output_type": "execute_result"
    }
   ],
   "source": [
    "right_merge = right_merge_data[right_merge_data['_merge']== 'right_only'].drop(columns= '_merge')\n",
    "right_merge"
   ]
  },
  {
   "cell_type": "markdown",
   "id": "188e6b21",
   "metadata": {},
   "source": [
    "e) verify whether the data frames are identical"
   ]
  },
  {
   "cell_type": "code",
   "execution_count": 10,
   "id": "38327be8",
   "metadata": {},
   "outputs": [],
   "source": [
    "# here, we will have to use the EQUALS method"
   ]
  },
  {
   "cell_type": "code",
   "execution_count": 11,
   "id": "32b59032",
   "metadata": {},
   "outputs": [],
   "source": [
    "is_identical = people1.equals(people2)"
   ]
  },
  {
   "cell_type": "code",
   "execution_count": 12,
   "id": "ff7456d3",
   "metadata": {},
   "outputs": [
    {
     "name": "stdout",
     "output_type": "stream",
     "text": [
      "The two dataframes are not identical\n"
     ]
    }
   ],
   "source": [
    "if is_identical:\n",
    "    print(\"The two dataframes are identical\")\n",
    "else:\n",
    "    print(\"The two dataframes are not identical\")"
   ]
  },
  {
   "cell_type": "markdown",
   "id": "92a26487",
   "metadata": {},
   "source": [
    "equals method checks for equality in terms of the shape, column names, and values in the data frames. If the two data frames have the same shape, column names, and values, they will be considered identical."
   ]
  },
  {
   "cell_type": "code",
   "execution_count": null,
   "id": "44b87922",
   "metadata": {},
   "outputs": [],
   "source": []
  }
 ],
 "metadata": {
  "kernelspec": {
   "display_name": "Python 3 (ipykernel)",
   "language": "python",
   "name": "python3"
  },
  "language_info": {
   "codemirror_mode": {
    "name": "ipython",
    "version": 3
   },
   "file_extension": ".py",
   "mimetype": "text/x-python",
   "name": "python",
   "nbconvert_exporter": "python",
   "pygments_lexer": "ipython3",
   "version": "3.9.13"
  }
 },
 "nbformat": 4,
 "nbformat_minor": 5
}
